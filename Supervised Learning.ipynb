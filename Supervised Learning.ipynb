{
 "cells": [
  {
   "cell_type": "markdown",
   "metadata": {},
   "source": [
    "# Supervised Learning Project"
   ]
  },
  {
   "cell_type": "markdown",
   "metadata": {},
   "source": [
    "## The classification goal is to predict the likelihood of a liability customer buying personal loans.\n"
   ]
  },
  {
   "cell_type": "code",
   "execution_count": 729,
   "metadata": {},
   "outputs": [],
   "source": [
    "#importing the required libraries\n",
    "import pandas as pd\n",
    "import numpy as np\n",
    "\n",
    "#For visualization\n",
    "import seaborn as sns\n",
    "import matplotlib.pyplot as plt  \n",
    "sns.set(color_codes=True)        #adds color background (have to kill the kernel to see the changes of color)\n",
    "%matplotlib inline \n",
    "\n",
    "#For scientific computations\n",
    "from scipy import stats\n",
    "\n",
    "#For model building\n",
    "from sklearn.model_selection import train_test_split      #to split data into train and test\n",
    "\n",
    "from sklearn.linear_model import LogisticRegression       #For logistic regression model\n",
    "from sklearn.naive_bayes import GaussianNB                #For Naive Bayes model\n",
    "from sklearn.neighbors import KNeighborsClassifier        #For KNN classifier model\n",
    "\n",
    "from sklearn import preprocessing                         #For standardization\n",
    "\n",
    "from sklearn import metrics                               #For classfication report, confusion matrix, score etc\n",
    "\n",
    "from sklearn.metrics import classification_report, roc_curve, auc, confusion_matrix, accuracy_score\n",
    "from sklearn.metrics import precision_recall_fscore_support\n"
   ]
  },
  {
   "cell_type": "markdown",
   "metadata": {},
   "source": [
    "## Step 1: Read the column description and ensure you understand each attribute well"
   ]
  },
  {
   "cell_type": "code",
   "execution_count": 730,
   "metadata": {},
   "outputs": [
    {
     "data": {
      "text/html": [
       "<div>\n",
       "<style scoped>\n",
       "    .dataframe tbody tr th:only-of-type {\n",
       "        vertical-align: middle;\n",
       "    }\n",
       "\n",
       "    .dataframe tbody tr th {\n",
       "        vertical-align: top;\n",
       "    }\n",
       "\n",
       "    .dataframe thead th {\n",
       "        text-align: right;\n",
       "    }\n",
       "</style>\n",
       "<table border=\"1\" class=\"dataframe\">\n",
       "  <thead>\n",
       "    <tr style=\"text-align: right;\">\n",
       "      <th></th>\n",
       "      <th>ID</th>\n",
       "      <th>Age</th>\n",
       "      <th>Experience</th>\n",
       "      <th>Income</th>\n",
       "      <th>ZIP Code</th>\n",
       "      <th>Family</th>\n",
       "      <th>CCAvg</th>\n",
       "      <th>Education</th>\n",
       "      <th>Mortgage</th>\n",
       "      <th>Personal Loan</th>\n",
       "      <th>Securities Account</th>\n",
       "      <th>CD Account</th>\n",
       "      <th>Online</th>\n",
       "      <th>CreditCard</th>\n",
       "    </tr>\n",
       "  </thead>\n",
       "  <tbody>\n",
       "    <tr>\n",
       "      <th>0</th>\n",
       "      <td>1</td>\n",
       "      <td>25</td>\n",
       "      <td>1</td>\n",
       "      <td>49</td>\n",
       "      <td>91107</td>\n",
       "      <td>4</td>\n",
       "      <td>1.6</td>\n",
       "      <td>1</td>\n",
       "      <td>0</td>\n",
       "      <td>0</td>\n",
       "      <td>1</td>\n",
       "      <td>0</td>\n",
       "      <td>0</td>\n",
       "      <td>0</td>\n",
       "    </tr>\n",
       "    <tr>\n",
       "      <th>1</th>\n",
       "      <td>2</td>\n",
       "      <td>45</td>\n",
       "      <td>19</td>\n",
       "      <td>34</td>\n",
       "      <td>90089</td>\n",
       "      <td>3</td>\n",
       "      <td>1.5</td>\n",
       "      <td>1</td>\n",
       "      <td>0</td>\n",
       "      <td>0</td>\n",
       "      <td>1</td>\n",
       "      <td>0</td>\n",
       "      <td>0</td>\n",
       "      <td>0</td>\n",
       "    </tr>\n",
       "    <tr>\n",
       "      <th>2</th>\n",
       "      <td>3</td>\n",
       "      <td>39</td>\n",
       "      <td>15</td>\n",
       "      <td>11</td>\n",
       "      <td>94720</td>\n",
       "      <td>1</td>\n",
       "      <td>1.0</td>\n",
       "      <td>1</td>\n",
       "      <td>0</td>\n",
       "      <td>0</td>\n",
       "      <td>0</td>\n",
       "      <td>0</td>\n",
       "      <td>0</td>\n",
       "      <td>0</td>\n",
       "    </tr>\n",
       "    <tr>\n",
       "      <th>3</th>\n",
       "      <td>4</td>\n",
       "      <td>35</td>\n",
       "      <td>9</td>\n",
       "      <td>100</td>\n",
       "      <td>94112</td>\n",
       "      <td>1</td>\n",
       "      <td>2.7</td>\n",
       "      <td>2</td>\n",
       "      <td>0</td>\n",
       "      <td>0</td>\n",
       "      <td>0</td>\n",
       "      <td>0</td>\n",
       "      <td>0</td>\n",
       "      <td>0</td>\n",
       "    </tr>\n",
       "    <tr>\n",
       "      <th>4</th>\n",
       "      <td>5</td>\n",
       "      <td>35</td>\n",
       "      <td>8</td>\n",
       "      <td>45</td>\n",
       "      <td>91330</td>\n",
       "      <td>4</td>\n",
       "      <td>1.0</td>\n",
       "      <td>2</td>\n",
       "      <td>0</td>\n",
       "      <td>0</td>\n",
       "      <td>0</td>\n",
       "      <td>0</td>\n",
       "      <td>0</td>\n",
       "      <td>1</td>\n",
       "    </tr>\n",
       "  </tbody>\n",
       "</table>\n",
       "</div>"
      ],
      "text/plain": [
       "   ID  Age  Experience  Income  ZIP Code  Family  CCAvg  Education  Mortgage  \\\n",
       "0   1   25           1      49     91107       4    1.6          1         0   \n",
       "1   2   45          19      34     90089       3    1.5          1         0   \n",
       "2   3   39          15      11     94720       1    1.0          1         0   \n",
       "3   4   35           9     100     94112       1    2.7          2         0   \n",
       "4   5   35           8      45     91330       4    1.0          2         0   \n",
       "\n",
       "   Personal Loan  Securities Account  CD Account  Online  CreditCard  \n",
       "0              0                   1           0       0           0  \n",
       "1              0                   1           0       0           0  \n",
       "2              0                   0           0       0           0  \n",
       "3              0                   0           0       0           0  \n",
       "4              0                   0           0       0           1  "
      ]
     },
     "execution_count": 730,
     "metadata": {},
     "output_type": "execute_result"
    }
   ],
   "source": [
    "indata = pd.read_csv('C:\\\\Users\\\\Rakesh Gowda S N\\\\Documents\\\\Projects\\\\Project 2 - SML\\\\Bank_Personal_Loan_Modelling.csv')\n",
    "indata.head()"
   ]
  },
  {
   "cell_type": "code",
   "execution_count": 731,
   "metadata": {},
   "outputs": [
    {
     "name": "stdout",
     "output_type": "stream",
     "text": [
      "Shape of data:\n",
      "(5000, 14)\n",
      "\n",
      "Data types:\n"
     ]
    },
    {
     "data": {
      "text/plain": [
       "ID                      int64\n",
       "Age                     int64\n",
       "Experience              int64\n",
       "Income                  int64\n",
       "ZIP Code                int64\n",
       "Family                  int64\n",
       "CCAvg                 float64\n",
       "Education               int64\n",
       "Mortgage                int64\n",
       "Personal Loan           int64\n",
       "Securities Account      int64\n",
       "CD Account              int64\n",
       "Online                  int64\n",
       "CreditCard              int64\n",
       "dtype: object"
      ]
     },
     "execution_count": 731,
     "metadata": {},
     "output_type": "execute_result"
    }
   ],
   "source": [
    "print('Shape of data:')\n",
    "print(indata.shape)\n",
    "print('')\n",
    "print('Data types:')\n",
    "indata.dtypes"
   ]
  },
  {
   "cell_type": "code",
   "execution_count": 732,
   "metadata": {},
   "outputs": [
    {
     "name": "stdout",
     "output_type": "stream",
     "text": [
      "More info on data:\n"
     ]
    },
    {
     "data": {
      "text/html": [
       "<div>\n",
       "<style scoped>\n",
       "    .dataframe tbody tr th:only-of-type {\n",
       "        vertical-align: middle;\n",
       "    }\n",
       "\n",
       "    .dataframe tbody tr th {\n",
       "        vertical-align: top;\n",
       "    }\n",
       "\n",
       "    .dataframe thead th {\n",
       "        text-align: right;\n",
       "    }\n",
       "</style>\n",
       "<table border=\"1\" class=\"dataframe\">\n",
       "  <thead>\n",
       "    <tr style=\"text-align: right;\">\n",
       "      <th></th>\n",
       "      <th>count</th>\n",
       "      <th>mean</th>\n",
       "      <th>std</th>\n",
       "      <th>min</th>\n",
       "      <th>25%</th>\n",
       "      <th>50%</th>\n",
       "      <th>75%</th>\n",
       "      <th>max</th>\n",
       "    </tr>\n",
       "  </thead>\n",
       "  <tbody>\n",
       "    <tr>\n",
       "      <th>ID</th>\n",
       "      <td>5000.0</td>\n",
       "      <td>2500.500000</td>\n",
       "      <td>1443.520003</td>\n",
       "      <td>1.0</td>\n",
       "      <td>1250.75</td>\n",
       "      <td>2500.5</td>\n",
       "      <td>3750.25</td>\n",
       "      <td>5000.0</td>\n",
       "    </tr>\n",
       "    <tr>\n",
       "      <th>Age</th>\n",
       "      <td>5000.0</td>\n",
       "      <td>45.338400</td>\n",
       "      <td>11.463166</td>\n",
       "      <td>23.0</td>\n",
       "      <td>35.00</td>\n",
       "      <td>45.0</td>\n",
       "      <td>55.00</td>\n",
       "      <td>67.0</td>\n",
       "    </tr>\n",
       "    <tr>\n",
       "      <th>Experience</th>\n",
       "      <td>5000.0</td>\n",
       "      <td>20.104600</td>\n",
       "      <td>11.467954</td>\n",
       "      <td>-3.0</td>\n",
       "      <td>10.00</td>\n",
       "      <td>20.0</td>\n",
       "      <td>30.00</td>\n",
       "      <td>43.0</td>\n",
       "    </tr>\n",
       "    <tr>\n",
       "      <th>Income</th>\n",
       "      <td>5000.0</td>\n",
       "      <td>73.774200</td>\n",
       "      <td>46.033729</td>\n",
       "      <td>8.0</td>\n",
       "      <td>39.00</td>\n",
       "      <td>64.0</td>\n",
       "      <td>98.00</td>\n",
       "      <td>224.0</td>\n",
       "    </tr>\n",
       "    <tr>\n",
       "      <th>ZIP Code</th>\n",
       "      <td>5000.0</td>\n",
       "      <td>93152.503000</td>\n",
       "      <td>2121.852197</td>\n",
       "      <td>9307.0</td>\n",
       "      <td>91911.00</td>\n",
       "      <td>93437.0</td>\n",
       "      <td>94608.00</td>\n",
       "      <td>96651.0</td>\n",
       "    </tr>\n",
       "    <tr>\n",
       "      <th>Family</th>\n",
       "      <td>5000.0</td>\n",
       "      <td>2.396400</td>\n",
       "      <td>1.147663</td>\n",
       "      <td>1.0</td>\n",
       "      <td>1.00</td>\n",
       "      <td>2.0</td>\n",
       "      <td>3.00</td>\n",
       "      <td>4.0</td>\n",
       "    </tr>\n",
       "    <tr>\n",
       "      <th>CCAvg</th>\n",
       "      <td>5000.0</td>\n",
       "      <td>1.937938</td>\n",
       "      <td>1.747659</td>\n",
       "      <td>0.0</td>\n",
       "      <td>0.70</td>\n",
       "      <td>1.5</td>\n",
       "      <td>2.50</td>\n",
       "      <td>10.0</td>\n",
       "    </tr>\n",
       "    <tr>\n",
       "      <th>Education</th>\n",
       "      <td>5000.0</td>\n",
       "      <td>1.881000</td>\n",
       "      <td>0.839869</td>\n",
       "      <td>1.0</td>\n",
       "      <td>1.00</td>\n",
       "      <td>2.0</td>\n",
       "      <td>3.00</td>\n",
       "      <td>3.0</td>\n",
       "    </tr>\n",
       "    <tr>\n",
       "      <th>Mortgage</th>\n",
       "      <td>5000.0</td>\n",
       "      <td>56.498800</td>\n",
       "      <td>101.713802</td>\n",
       "      <td>0.0</td>\n",
       "      <td>0.00</td>\n",
       "      <td>0.0</td>\n",
       "      <td>101.00</td>\n",
       "      <td>635.0</td>\n",
       "    </tr>\n",
       "    <tr>\n",
       "      <th>Personal Loan</th>\n",
       "      <td>5000.0</td>\n",
       "      <td>0.096000</td>\n",
       "      <td>0.294621</td>\n",
       "      <td>0.0</td>\n",
       "      <td>0.00</td>\n",
       "      <td>0.0</td>\n",
       "      <td>0.00</td>\n",
       "      <td>1.0</td>\n",
       "    </tr>\n",
       "    <tr>\n",
       "      <th>Securities Account</th>\n",
       "      <td>5000.0</td>\n",
       "      <td>0.104400</td>\n",
       "      <td>0.305809</td>\n",
       "      <td>0.0</td>\n",
       "      <td>0.00</td>\n",
       "      <td>0.0</td>\n",
       "      <td>0.00</td>\n",
       "      <td>1.0</td>\n",
       "    </tr>\n",
       "    <tr>\n",
       "      <th>CD Account</th>\n",
       "      <td>5000.0</td>\n",
       "      <td>0.060400</td>\n",
       "      <td>0.238250</td>\n",
       "      <td>0.0</td>\n",
       "      <td>0.00</td>\n",
       "      <td>0.0</td>\n",
       "      <td>0.00</td>\n",
       "      <td>1.0</td>\n",
       "    </tr>\n",
       "    <tr>\n",
       "      <th>Online</th>\n",
       "      <td>5000.0</td>\n",
       "      <td>0.596800</td>\n",
       "      <td>0.490589</td>\n",
       "      <td>0.0</td>\n",
       "      <td>0.00</td>\n",
       "      <td>1.0</td>\n",
       "      <td>1.00</td>\n",
       "      <td>1.0</td>\n",
       "    </tr>\n",
       "    <tr>\n",
       "      <th>CreditCard</th>\n",
       "      <td>5000.0</td>\n",
       "      <td>0.294000</td>\n",
       "      <td>0.455637</td>\n",
       "      <td>0.0</td>\n",
       "      <td>0.00</td>\n",
       "      <td>0.0</td>\n",
       "      <td>1.00</td>\n",
       "      <td>1.0</td>\n",
       "    </tr>\n",
       "  </tbody>\n",
       "</table>\n",
       "</div>"
      ],
      "text/plain": [
       "                     count          mean          std     min       25%  \\\n",
       "ID                  5000.0   2500.500000  1443.520003     1.0   1250.75   \n",
       "Age                 5000.0     45.338400    11.463166    23.0     35.00   \n",
       "Experience          5000.0     20.104600    11.467954    -3.0     10.00   \n",
       "Income              5000.0     73.774200    46.033729     8.0     39.00   \n",
       "ZIP Code            5000.0  93152.503000  2121.852197  9307.0  91911.00   \n",
       "Family              5000.0      2.396400     1.147663     1.0      1.00   \n",
       "CCAvg               5000.0      1.937938     1.747659     0.0      0.70   \n",
       "Education           5000.0      1.881000     0.839869     1.0      1.00   \n",
       "Mortgage            5000.0     56.498800   101.713802     0.0      0.00   \n",
       "Personal Loan       5000.0      0.096000     0.294621     0.0      0.00   \n",
       "Securities Account  5000.0      0.104400     0.305809     0.0      0.00   \n",
       "CD Account          5000.0      0.060400     0.238250     0.0      0.00   \n",
       "Online              5000.0      0.596800     0.490589     0.0      0.00   \n",
       "CreditCard          5000.0      0.294000     0.455637     0.0      0.00   \n",
       "\n",
       "                        50%       75%      max  \n",
       "ID                   2500.5   3750.25   5000.0  \n",
       "Age                    45.0     55.00     67.0  \n",
       "Experience             20.0     30.00     43.0  \n",
       "Income                 64.0     98.00    224.0  \n",
       "ZIP Code            93437.0  94608.00  96651.0  \n",
       "Family                  2.0      3.00      4.0  \n",
       "CCAvg                   1.5      2.50     10.0  \n",
       "Education               2.0      3.00      3.0  \n",
       "Mortgage                0.0    101.00    635.0  \n",
       "Personal Loan           0.0      0.00      1.0  \n",
       "Securities Account      0.0      0.00      1.0  \n",
       "CD Account              0.0      0.00      1.0  \n",
       "Online                  1.0      1.00      1.0  \n",
       "CreditCard              0.0      1.00      1.0  "
      ]
     },
     "execution_count": 732,
     "metadata": {},
     "output_type": "execute_result"
    }
   ],
   "source": [
    "print('More info on data:')\n",
    "indata.describe().transpose()"
   ]
  },
  {
   "cell_type": "markdown",
   "metadata": {},
   "source": [
    "## Step 2: Study the data distribution in each attribute.\n",
    "## Step 3: Get the target column distribution."
   ]
  },
  {
   "cell_type": "code",
   "execution_count": 733,
   "metadata": {},
   "outputs": [
    {
     "data": {
      "text/plain": [
       "ID                    0\n",
       "Age                   0\n",
       "Experience            0\n",
       "Income                0\n",
       "ZIP Code              0\n",
       "Family                0\n",
       "CCAvg                 0\n",
       "Education             0\n",
       "Mortgage              0\n",
       "Personal Loan         0\n",
       "Securities Account    0\n",
       "CD Account            0\n",
       "Online                0\n",
       "CreditCard            0\n",
       "dtype: int64"
      ]
     },
     "execution_count": 733,
     "metadata": {},
     "output_type": "execute_result"
    }
   ],
   "source": [
    "#Start EDA\n",
    "#Check for missing values\n",
    "indata.isnull().sum()\n",
    "#indata.isnull().values.any()         #can also be used to check presence of missing values"
   ]
  },
  {
   "cell_type": "code",
   "execution_count": 734,
   "metadata": {},
   "outputs": [
    {
     "name": "stdout",
     "output_type": "stream",
     "text": [
      "There are no missing values in any of the columns.\n"
     ]
    }
   ],
   "source": [
    "print('There are no missing values in any of the columns.')"
   ]
  },
  {
   "cell_type": "code",
   "execution_count": 735,
   "metadata": {},
   "outputs": [
    {
     "data": {
      "text/plain": [
       "-1    33\n",
       "-2    15\n",
       "-3     4\n",
       "Name: Experience, dtype: int64"
      ]
     },
     "execution_count": 735,
     "metadata": {},
     "output_type": "execute_result"
    }
   ],
   "source": [
    "#To check negative values in Experience column\n",
    "indata[indata.Experience<0].Experience.value_counts()"
   ]
  },
  {
   "cell_type": "code",
   "execution_count": 736,
   "metadata": {},
   "outputs": [
    {
     "name": "stdout",
     "output_type": "stream",
     "text": [
      "Negative Experience in original dataset is 52.\n",
      "Negative Experience after filling zeroes is 0.\n"
     ]
    }
   ],
   "source": [
    "#Since there are only 3 unique negative values we can fill them up with 0 instead of mean. (Also values are close to 0)\n",
    "\n",
    "indata1 = indata.copy()                               #to avoid affecting main dataset\n",
    "indata1.loc[indata.Experience<0,'Experience']=0\n",
    "\n",
    "print(\"Negative Experience in original dataset is {0:0.0f}.\".format(indata[indata['Experience'] <0 ]['Experience'].count()))\n",
    "#print('')\n",
    "print(\"Negative Experience after filling zeroes is {0:0.0f}.\".format(indata1[indata1['Experience'] <0 ]['Experience'].count()))"
   ]
  },
  {
   "cell_type": "code",
   "execution_count": 737,
   "metadata": {},
   "outputs": [
    {
     "data": {
      "text/html": [
       "<div>\n",
       "<style scoped>\n",
       "    .dataframe tbody tr th:only-of-type {\n",
       "        vertical-align: middle;\n",
       "    }\n",
       "\n",
       "    .dataframe tbody tr th {\n",
       "        vertical-align: top;\n",
       "    }\n",
       "\n",
       "    .dataframe thead th {\n",
       "        text-align: right;\n",
       "    }\n",
       "</style>\n",
       "<table border=\"1\" class=\"dataframe\">\n",
       "  <thead>\n",
       "    <tr style=\"text-align: right;\">\n",
       "      <th></th>\n",
       "      <th>Age</th>\n",
       "      <th>Experience</th>\n",
       "      <th>Income</th>\n",
       "      <th>Family</th>\n",
       "      <th>CCAvg</th>\n",
       "      <th>Education</th>\n",
       "      <th>Mortgage</th>\n",
       "      <th>Personal Loan</th>\n",
       "      <th>Securities Account</th>\n",
       "      <th>CD Account</th>\n",
       "      <th>Online</th>\n",
       "      <th>CreditCard</th>\n",
       "    </tr>\n",
       "  </thead>\n",
       "  <tbody>\n",
       "    <tr>\n",
       "      <th>0</th>\n",
       "      <td>25</td>\n",
       "      <td>1</td>\n",
       "      <td>49</td>\n",
       "      <td>4</td>\n",
       "      <td>1.6</td>\n",
       "      <td>1</td>\n",
       "      <td>0</td>\n",
       "      <td>0</td>\n",
       "      <td>1</td>\n",
       "      <td>0</td>\n",
       "      <td>0</td>\n",
       "      <td>0</td>\n",
       "    </tr>\n",
       "    <tr>\n",
       "      <th>1</th>\n",
       "      <td>45</td>\n",
       "      <td>19</td>\n",
       "      <td>34</td>\n",
       "      <td>3</td>\n",
       "      <td>1.5</td>\n",
       "      <td>1</td>\n",
       "      <td>0</td>\n",
       "      <td>0</td>\n",
       "      <td>1</td>\n",
       "      <td>0</td>\n",
       "      <td>0</td>\n",
       "      <td>0</td>\n",
       "    </tr>\n",
       "    <tr>\n",
       "      <th>2</th>\n",
       "      <td>39</td>\n",
       "      <td>15</td>\n",
       "      <td>11</td>\n",
       "      <td>1</td>\n",
       "      <td>1.0</td>\n",
       "      <td>1</td>\n",
       "      <td>0</td>\n",
       "      <td>0</td>\n",
       "      <td>0</td>\n",
       "      <td>0</td>\n",
       "      <td>0</td>\n",
       "      <td>0</td>\n",
       "    </tr>\n",
       "    <tr>\n",
       "      <th>3</th>\n",
       "      <td>35</td>\n",
       "      <td>9</td>\n",
       "      <td>100</td>\n",
       "      <td>1</td>\n",
       "      <td>2.7</td>\n",
       "      <td>2</td>\n",
       "      <td>0</td>\n",
       "      <td>0</td>\n",
       "      <td>0</td>\n",
       "      <td>0</td>\n",
       "      <td>0</td>\n",
       "      <td>0</td>\n",
       "    </tr>\n",
       "    <tr>\n",
       "      <th>4</th>\n",
       "      <td>35</td>\n",
       "      <td>8</td>\n",
       "      <td>45</td>\n",
       "      <td>4</td>\n",
       "      <td>1.0</td>\n",
       "      <td>2</td>\n",
       "      <td>0</td>\n",
       "      <td>0</td>\n",
       "      <td>0</td>\n",
       "      <td>0</td>\n",
       "      <td>0</td>\n",
       "      <td>1</td>\n",
       "    </tr>\n",
       "  </tbody>\n",
       "</table>\n",
       "</div>"
      ],
      "text/plain": [
       "   Age  Experience  Income  Family  CCAvg  Education  Mortgage  Personal Loan  \\\n",
       "0   25           1      49       4    1.6          1         0              0   \n",
       "1   45          19      34       3    1.5          1         0              0   \n",
       "2   39          15      11       1    1.0          1         0              0   \n",
       "3   35           9     100       1    2.7          2         0              0   \n",
       "4   35           8      45       4    1.0          2         0              0   \n",
       "\n",
       "   Securities Account  CD Account  Online  CreditCard  \n",
       "0                   1           0       0           0  \n",
       "1                   1           0       0           0  \n",
       "2                   0           0       0           0  \n",
       "3                   0           0       0           0  \n",
       "4                   0           0       0           1  "
      ]
     },
     "execution_count": 737,
     "metadata": {},
     "output_type": "execute_result"
    }
   ],
   "source": [
    "#Dropping unwanted columns\n",
    "indata1.drop(['ID','ZIP Code'],axis=1 ,inplace=True)\n",
    "indata1.head()"
   ]
  },
  {
   "cell_type": "code",
   "execution_count": 738,
   "metadata": {},
   "outputs": [
    {
     "name": "stdout",
     "output_type": "stream",
     "text": [
      "As per above data currently we have: \n",
      "1. Five numeric variables (Age, Experience, Income, CCAvg and Mortgage).\n",
      "2. Two categorical variables (Family and Education).\n",
      "3. Five boolean variables (Personal Loan, Securities Account, CD Account, Online and CreditCard).\n"
     ]
    }
   ],
   "source": [
    "print('As per above data currently we have: ')\n",
    "print('1. Five numeric variables (Age, Experience, Income, CCAvg and Mortgage).')\n",
    "print('2. Two categorical variables (Family and Education).')\n",
    "print('3. Five boolean variables (Personal Loan, Securities Account, CD Account, Online and CreditCard).')"
   ]
  },
  {
   "cell_type": "code",
   "execution_count": 739,
   "metadata": {},
   "outputs": [
    {
     "data": {
      "image/png": "[encoded data removed]",
      "text/plain": [
       "<Figure size 1080x720 with 5 Axes>"
      ]
     },
     "metadata": {
      "needs_background": "light"
     },
     "output_type": "display_data"
    }
   ],
   "source": [
    "#Univariate analysis\n",
    "\n",
    "plt.figure(figsize= (15,10));\n",
    "\n",
    "plt.subplot(3,2,1);\n",
    "sns.distplot(indata1['Age'],rug=True);\n",
    "\n",
    "plt.subplot(3,2,2);\n",
    "sns.distplot(indata1['Experience'],rug=True);\n",
    "\n",
    "plt.subplot(3,2,3);\n",
    "sns.distplot(indata1['Income'],rug=False);\n",
    "\n",
    "plt.subplot(3,2,4);\n",
    "sns.distplot(indata1['CCAvg'],rug=False);\n",
    "\n",
    "plt.subplot(3,2,5);\n",
    "sns.distplot(indata1['Mortgage']);"
   ]
  },
  {
   "cell_type": "code",
   "execution_count": 740,
   "metadata": {},
   "outputs": [
    {
     "name": "stdout",
     "output_type": "stream",
     "text": [
      "From the above plots we can see that:\n",
      "1. The spread of data in Age and Experience column is almost even but irregular.\n",
      "2. Data in Income and CCAvg are mostly right skewed.\n"
     ]
    }
   ],
   "source": [
    "print('From the above plots we can see that:')\n",
    "print('1. The spread of data in Age and Experience column is almost even but irregular.')\n",
    "print('2. Data in Income and CCAvg are mostly right skewed.')"
   ]
  },
  {
   "cell_type": "code",
   "execution_count": 741,
   "metadata": {},
   "outputs": [
    {
     "data": {
      "image/png": "[encoded data removed]",
      "text/plain": [
       "<Figure size 432x288 with 1 Axes>"
      ]
     },
     "metadata": {
      "needs_background": "light"
     },
     "output_type": "display_data"
    }
   ],
   "source": [
    "#Since Mortgage distribution was unclear\n",
    "sns.boxplot(indata1['Mortgage']);"
   ]
  },
  {
   "cell_type": "code",
   "execution_count": 742,
   "metadata": {},
   "outputs": [
    {
     "name": "stdout",
     "output_type": "stream",
     "text": [
      "There is a presence of outliers in Mortgage column and hence outlier treatment might be required if it has any impact on Personal Loan column.\n"
     ]
    }
   ],
   "source": [
    "print('There is a presence of outliers in Mortgage column and hence outlier treatment might be required if it has any impact on Personal Loan column.')"
   ]
  },
  {
   "cell_type": "code",
   "execution_count": 743,
   "metadata": {},
   "outputs": [
    {
     "data": {
      "image/png": "[encoded data removed]",
      "text/plain": [
       "<Figure size 1440x1080 with 7 Axes>"
      ]
     },
     "metadata": {
      "needs_background": "light"
     },
     "output_type": "display_data"
    }
   ],
   "source": [
    "plt.figure(figsize= (20,15));\n",
    "\n",
    "plt.subplot(3,3,1);\n",
    "sns.countplot(indata1['Family']);\n",
    "\n",
    "plt.subplot(3,3,2);\n",
    "sns.countplot(indata1['Education']);\n",
    "\n",
    "plt.subplot(3,3,3);\n",
    "sns.countplot(indata1['Personal Loan']);\n",
    "\n",
    "plt.subplot(3,3,4);\n",
    "sns.countplot(indata1['Securities Account']);\n",
    "\n",
    "plt.subplot(3,3,5);\n",
    "sns.countplot(indata1['CD Account']);\n",
    "\n",
    "plt.subplot(3,3,6);\n",
    "sns.countplot(indata1['Online']);\n",
    "\n",
    "plt.subplot(3,3,7);\n",
    "sns.countplot(indata1['CreditCard']);"
   ]
  },
  {
   "cell_type": "code",
   "execution_count": 744,
   "metadata": {},
   "outputs": [
    {
     "name": "stdout",
     "output_type": "stream",
     "text": [
      "From the above data we observed that: \n",
      "1. Almost similar number of customers are present across all family sizes.\n",
      "2. Customer base has more undergraduates compared to graduates and professionals.\n",
      "3. Very less number of customers have accepted personal loan.\n",
      "4. Only few customers have securities account and CD account with the bank.\n",
      "5. More customers use internet banking facilities.\n",
      "6. Most of the customers do not have credit card issued by Thera bank.\n"
     ]
    }
   ],
   "source": [
    "print('From the above data we observed that: ')\n",
    "print('1. Almost similar number of customers are present across all family sizes.')\n",
    "print('2. Customer base has more undergraduates compared to graduates and professionals.')\n",
    "print('3. Very less number of customers have accepted personal loan.')\n",
    "print('4. Only few customers have securities account and CD account with the bank.')\n",
    "print('5. More customers use internet banking facilities.')\n",
    "print('6. Most of the customers do not have credit card issued by Thera bank.')"
   ]
  },
  {
   "cell_type": "code",
   "execution_count": 745,
   "metadata": {},
   "outputs": [
    {
     "data": {
      "image/png": "[encoded data removed]",
      "text/plain": [
       "<Figure size 1440x360 with 5 Axes>"
      ]
     },
     "metadata": {
      "needs_background": "light"
     },
     "output_type": "display_data"
    }
   ],
   "source": [
    "#Bivariate Analysis\n",
    "\n",
    "#Numerical variables against target variable\n",
    "\n",
    "plt.figure(figsize=(20,5))\n",
    "\n",
    "plt.subplot(2,3,1)\n",
    "#sns.violinplot(indata1['Personal Loan'], indata1['Age'])\n",
    "sns.barplot(indata1['Personal Loan'], indata1['Age']);\n",
    "\n",
    "plt.subplot(2,3,2)\n",
    "sns.barplot(indata1['Personal Loan'], indata1['Experience']);\n",
    "\n",
    "plt.subplot(2,3,3)\n",
    "sns.barplot(indata1['Personal Loan'], indata1['Income']);\n",
    "\n",
    "plt.subplot(2,3,4)\n",
    "sns.barplot(indata1['Personal Loan'], indata1['CCAvg']);\n",
    "\n",
    "plt.subplot(2,3,5)\n",
    "sns.barplot(indata1['Personal Loan'], indata1['Mortgage']);"
   ]
  },
  {
   "cell_type": "code",
   "execution_count": 746,
   "metadata": {},
   "outputs": [
    {
     "name": "stdout",
     "output_type": "stream",
     "text": [
      "Observations from above plot are:\n",
      "1. Age and Experience does not seem to have much impact on personal loan.\n",
      "2. Personal loan is given to/accepted by customers with higher income, higher CCAvg and higher Mortgage.\n",
      "3. Since Mortgage has more outliers as observed earlier and has an impact on personal loan, we need to reduce outliers.\n"
     ]
    }
   ],
   "source": [
    "print('Observations from above plot are:')\n",
    "print('1. Age and Experience does not seem to have much impact on personal loan.')\n",
    "print('2. Personal loan is given to/accepted by customers with higher income, higher CCAvg and higher Mortgage.')\n",
    "print('3. Since Mortgage has more outliers as observed earlier and has an impact on personal loan, we need to reduce outliers.')"
   ]
  },
  {
   "cell_type": "code",
   "execution_count": 747,
   "metadata": {},
   "outputs": [
    {
     "data": {
      "text/plain": [
       "(4895, 12)"
      ]
     },
     "execution_count": 747,
     "metadata": {},
     "output_type": "execute_result"
    }
   ],
   "source": [
    "#Outlier treatment\n",
    "\n",
    "indata1['Mortgage_z']=np.abs(stats.zscore(indata1['Mortgage']))\n",
    "indata1=indata1[indata1['Mortgage_z']<3]            #since z score above 3 is termed as an outlier\n",
    "#indata1.head()\n",
    "indata2 = indata1.copy()\n",
    "indata2.drop('Mortgage_z',axis=1,inplace=True);     #Have to execute from start else more rows will be dropped\n",
    "indata2.shape"
   ]
  },
  {
   "cell_type": "code",
   "execution_count": 748,
   "metadata": {},
   "outputs": [
    {
     "data": {
      "image/png": "[encoded data removed]",
      "text/plain": [
       "<Figure size 1440x360 with 2 Axes>"
      ]
     },
     "metadata": {
      "needs_background": "light"
     },
     "output_type": "display_data"
    }
   ],
   "source": [
    "#Mortgage distribution after dropping rows to reduce outliers\n",
    "plt.figure(figsize=(20,5))\n",
    "\n",
    "plt.subplot(1,2,1)\n",
    "plt.title(\"Mortgage on original data\")\n",
    "sns.boxplot(indata['Mortgage']);\n",
    "\n",
    "plt.subplot(1,2,2)\n",
    "plt.title(\"Mortgage after reducing outliers\")\n",
    "sns.boxplot(indata2['Mortgage']);"
   ]
  },
  {
   "cell_type": "code",
   "execution_count": 749,
   "metadata": {},
   "outputs": [
    {
     "data": {
      "image/png": "[encoded data removed]",
      "text/plain": [
       "<Figure size 1440x1080 with 6 Axes>"
      ]
     },
     "metadata": {
      "needs_background": "light"
     },
     "output_type": "display_data"
    }
   ],
   "source": [
    "#Categorical and Boolean variables against target variable\n",
    "\n",
    "plt.figure(figsize=(20,15))\n",
    "\n",
    "plt.subplot(3,3,1)\n",
    "sns.countplot(x='Family',data=indata2,hue='Personal Loan');\n",
    "\n",
    "plt.subplot(3,3,2)\n",
    "sns.countplot(x='Education',data=indata2,hue='Personal Loan');\n",
    "\n",
    "plt.subplot(3,3,3)\n",
    "sns.countplot(x='Securities Account',data=indata2,hue='Personal Loan');\n",
    "\n",
    "plt.subplot(3,3,4)\n",
    "sns.countplot(x='CD Account',data=indata2,hue='Personal Loan');\n",
    "\n",
    "plt.subplot(3,3,5)\n",
    "sns.countplot(x='Online',data=indata2,hue='Personal Loan');\n",
    "\n",
    "plt.subplot(3,3,6)\n",
    "sns.countplot(x='CreditCard',data=indata2,hue='Personal Loan');"
   ]
  },
  {
   "cell_type": "code",
   "execution_count": 750,
   "metadata": {},
   "outputs": [
    {
     "name": "stdout",
     "output_type": "stream",
     "text": [
      "Observations from above plot are:\n",
      "1. Family size does not seem to have much impact on personal loan.\n",
      "2. Very few undergraduates have taken Personal Loan compared to graduates and professionals.\n",
      "3. Negligible difference observed in customers having securities account, CD account, use online facilities and credit card taken against personal loan.\n",
      "4. Since we are not able to get much evidence from visual graphs, we will perform hypothesis testing.\n"
     ]
    }
   ],
   "source": [
    "print('Observations from above plot are:')\n",
    "print('1. Family size does not seem to have much impact on personal loan.')\n",
    "print('2. Very few undergraduates have taken Personal Loan compared to graduates and professionals.')\n",
    "print('3. Negligible difference observed in customers having securities account, CD account, use online facilities and credit card taken against personal loan.')\n",
    "print('4. Since we are not able to get much evidence from visual graphs, we will perform hypothesis testing.')"
   ]
  },
  {
   "cell_type": "code",
   "execution_count": 751,
   "metadata": {},
   "outputs": [
    {
     "name": "stdout",
     "output_type": "stream",
     "text": [
      "Personal Loan     0    1\n",
      "Family                  \n",
      "1              1340  100\n",
      "2              1161   94\n",
      "3               874  120\n",
      "4              1087  119\n",
      "\n",
      "Customers with larger family size has an effect in taking personal loan as the p_value (2.868580802943549e-05) < 0.05 and thus null hypothesis is rejected.\n"
     ]
    }
   ],
   "source": [
    "#Hypothesis testing (Family size against personal loan)\n",
    "Ho = \"Customers with larger family size has no effect in taking personal loan\"           #Null hypothesis\n",
    "Ha = \"Customers with larger family size has an effect in taking personal loan\"           #Alternate hypothesis\n",
    "\n",
    "#Perform chi-squared test since both inputs are categorical in nature and mutually exclusive\n",
    "crosstab = pd.crosstab(indata2['Family'],indata2['Personal Loan'])  # Contingency table\n",
    "\n",
    "chi_stat, p_value, dof, exp = stats.chi2_contingency(crosstab)\n",
    "\n",
    "#Assuming confidence interval as 95%\n",
    "if p_value < 0.05:\n",
    "    print(f'{crosstab}')\n",
    "    print('')\n",
    "    print(f'{Ha} as the p_value ({p_value}) < 0.05 and thus null hypothesis is rejected.')\n",
    "else:\n",
    "    print(f'{crosstab}')\n",
    "    print('')\n",
    "    print(f'{Ho} as the p_value ({p_value}) > 0.05 and thus null hypothesis is accepted.')"
   ]
  },
  {
   "cell_type": "code",
   "execution_count": 752,
   "metadata": {},
   "outputs": [
    {
     "name": "stdout",
     "output_type": "stream",
     "text": [
      "Personal Loan     0    1\n",
      "Education               \n",
      "1              1949   82\n",
      "2              1218  166\n",
      "3              1295  185\n",
      "\n",
      "Customers with comparitively higher educational level an effect in taking personal loan as the p_value (2.174527912754905e-22) < 0.05 and thus null hypothesis is rejected.\n"
     ]
    }
   ],
   "source": [
    "#Hypothesis testing (Education against personal loan)\n",
    "Ho = \"Customers with comparitively higher educational level has no effect in taking personal loan\"     #Null hypothesis\n",
    "Ha = \"Customers with comparitively higher educational level an effect in taking personal loan\"         #Alternate hypothesis\n",
    "\n",
    "#Perform chi-squared test since both inputs are categorical in nature and mutually exclusive\n",
    "crosstab = pd.crosstab(indata2['Education'],indata2['Personal Loan'])  # Contingency table\n",
    "\n",
    "chi_stat, p_value, dof, exp = stats.chi2_contingency(crosstab)\n",
    "\n",
    "#Assuming confidence interval as 95%\n",
    "if p_value < 0.05:\n",
    "    print(f'{crosstab}')\n",
    "    print('')\n",
    "    print(f'{Ha} as the p_value ({p_value}) < 0.05 and thus null hypothesis is rejected.')\n",
    "else:\n",
    "    print(f'{crosstab}')\n",
    "    print('')\n",
    "    print(f'{Ho} as the p_value ({p_value}) > 0.05 and thus null hypothesis is accepted.')"
   ]
  },
  {
   "cell_type": "code",
   "execution_count": 753,
   "metadata": {},
   "outputs": [
    {
     "name": "stdout",
     "output_type": "stream",
     "text": [
      "Personal Loan          0    1\n",
      "Securities Account           \n",
      "0                   4005  379\n",
      "1                    457   54\n",
      "\n",
      "Securities Account has no effect in taking personal loan as the p_value (0.17193326908495593) > 0.05 and thus null hypothesis is accepted.\n"
     ]
    }
   ],
   "source": [
    "#Hypothesis testing (Securities account against personal loan)\n",
    "Ho = \"Securities Account has no effect in taking personal loan\"     #Null hypothesis\n",
    "Ha = \"Securities Account has an effect in taking personal loan\"     #Alternate hypothesis\n",
    "\n",
    "#Perform chi-squared test since both inputs are categorical in nature and mutually exclusive\n",
    "crosstab = pd.crosstab(indata2['Securities Account'],indata2['Personal Loan'])  # Contingency table\n",
    "\n",
    "chi_stat, p_value, dof, exp = stats.chi2_contingency(crosstab)\n",
    "\n",
    "#Assuming confidence interval as 95%\n",
    "if p_value < 0.05:\n",
    "    print(f'{crosstab}')\n",
    "    print('')\n",
    "    print(f'{Ha} as the p_value ({p_value}) < 0.05 and thus null hypothesis is rejected.')\n",
    "else:\n",
    "    print(f'{crosstab}')\n",
    "    print('')\n",
    "    print(f'{Ho} as the p_value ({p_value}) > 0.05 and thus null hypothesis is accepted.')"
   ]
  },
  {
   "cell_type": "code",
   "execution_count": 754,
   "metadata": {},
   "outputs": [
    {
     "name": "stdout",
     "output_type": "stream",
     "text": [
      "Personal Loan     0    1\n",
      "CD Account              \n",
      "0              4301  312\n",
      "1               161  121\n",
      "\n",
      "CD Account has an effect in taking personal loan as the p_value (1.145783972242365e-94) < 0.05 and thus null hypothesis is rejected.\n"
     ]
    }
   ],
   "source": [
    "#Hypothesis testing (CD Account against personal loan)\n",
    "Ho = \"CD Account has no effect in taking personal loan\"     #Null hypothesis\n",
    "Ha = \"CD Account has an effect in taking personal loan\"     #Alternate hypothesis\n",
    "\n",
    "#Perform chi-squared test since both inputs are categorical in nature and mutually exclusive\n",
    "crosstab = pd.crosstab(indata2['CD Account'],indata2['Personal Loan'])  # Contingency table\n",
    "\n",
    "chi_stat, p_value, dof, exp = stats.chi2_contingency(crosstab)\n",
    "\n",
    "#Assuming confidence interval as 95%\n",
    "if p_value < 0.05:\n",
    "    print(f'{crosstab}')\n",
    "    print('')\n",
    "    print(f'{Ha} as the p_value ({p_value}) < 0.05 and thus null hypothesis is rejected.')\n",
    "else:\n",
    "    print(f'{crosstab}')\n",
    "    print('')\n",
    "    print(f'{Ho} as the p_value ({p_value}) > 0.05 and thus null hypothesis is accepted.')"
   ]
  },
  {
   "cell_type": "code",
   "execution_count": 755,
   "metadata": {},
   "outputs": [
    {
     "name": "stdout",
     "output_type": "stream",
     "text": [
      "Personal Loan     0    1\n",
      "Online                  \n",
      "0              1803  172\n",
      "1              2659  261\n",
      "\n",
      "Customers using online facilities has no effect in taking personal loan as the p_value (0.8211184262381276) > 0.05 and thus null hypothesis is accepted.\n"
     ]
    }
   ],
   "source": [
    "#Hypothesis testing (Online against personal loan)\n",
    "Ho = \"Customers using online facilities has no effect in taking personal loan\"     #Null hypothesis\n",
    "Ha = \"Customers using online facilities has an effect in taking personal loan\"     #Alternate hypothesis\n",
    "\n",
    "#Perform chi-squared test since both inputs are categorical in nature and mutually exclusive\n",
    "crosstab = pd.crosstab(indata2['Online'],indata2['Personal Loan'])  # Contingency table\n",
    "\n",
    "chi_stat, p_value, dof, exp = stats.chi2_contingency(crosstab)\n",
    "\n",
    "#Assuming confidence interval as 95%\n",
    "if p_value < 0.05:\n",
    "    print(f'{crosstab}')\n",
    "    print('')\n",
    "    print(f'{Ha} as the p_value ({p_value}) < 0.05 and thus null hypothesis is rejected.')\n",
    "else:\n",
    "    print(f'{crosstab}')\n",
    "    print('')\n",
    "    print(f'{Ho} as the p_value ({p_value}) > 0.05 and thus null hypothesis is accepted.')"
   ]
  },
  {
   "cell_type": "code",
   "execution_count": 756,
   "metadata": {},
   "outputs": [
    {
     "name": "stdout",
     "output_type": "stream",
     "text": [
      "Personal Loan     0    1\n",
      "CreditCard              \n",
      "0              3145  307\n",
      "1              1317  126\n",
      "\n",
      "Customers using Credit card has no effect in taking personal loan as the p_value (0.8994714232255394) > 0.05 and thus null hypothesis is accepted.\n"
     ]
    }
   ],
   "source": [
    "#Hypothesis testing (Credit card against personal loan)\n",
    "Ho = \"Customers using Credit card has no effect in taking personal loan\"     #Null hypothesis\n",
    "Ha = \"Customers using Credit card has an effect in taking personal loan\"     #Alternate hypothesis\n",
    "\n",
    "#Perform chi-squared test since both inputs are categorical in nature and mutually exclusive\n",
    "crosstab = pd.crosstab(indata2['CreditCard'],indata2['Personal Loan'])  # Contingency table\n",
    "\n",
    "chi_stat, p_value, dof, exp = stats.chi2_contingency(crosstab)\n",
    "\n",
    "#Assuming confidence interval as 95%\n",
    "if p_value < 0.05:\n",
    "    print(f'{crosstab}')\n",
    "    print('')\n",
    "    print(f'{Ha} as the p_value ({p_value}) < 0.05 and thus null hypothesis is rejected.')\n",
    "else:\n",
    "    print(f'{crosstab}')\n",
    "    print('')\n",
    "    print(f'{Ho} as the p_value ({p_value}) > 0.05 and thus null hypothesis is accepted.')"
   ]
  },
  {
   "cell_type": "code",
   "execution_count": 757,
   "metadata": {},
   "outputs": [
    {
     "name": "stdout",
     "output_type": "stream",
     "text": [
      "1. Personal Loan distribution is highly skewed with positive skewness of 2.8994902390062385.\n",
      "2. Personal Loan distribution is leptykurtic as kurtosis is 6.409662340356721.\n",
      "3. From the data most of the customers do not take Personal loans.\n"
     ]
    },
    {
     "data": {
      "image/png": "[encoded data removed]",
      "text/plain": [
       "<Figure size 432x288 with 1 Axes>"
      ]
     },
     "metadata": {
      "needs_background": "light"
     },
     "output_type": "display_data"
    }
   ],
   "source": [
    "sns.countplot(y=indata2['Personal Loan'], color='brown');\n",
    "\n",
    "skew = indata2['Personal Loan'].skew()\n",
    "kurt = indata2['Personal Loan'].kurtosis()\n",
    "\n",
    "#Skewness\n",
    "if skew < -1 or skew > 1:\n",
    "    if skew < -1:\n",
    "        print(f'1. Personal Loan distribution is highly skewed with negative skewness of {skew}.')\n",
    "    else:\n",
    "        print(f'1. Personal Loan distribution is highly skewed with positive skewness of {skew}.')\n",
    "        \n",
    "elif (-1 < skew > -0.5) or (1 > skew > 0.5):\n",
    "    if -1 < skew > -0.5:\n",
    "        print(f'1. Personal Loan distribution is moderately skewed with negative skewness of {skew}.')\n",
    "    else:\n",
    "        print(f'1. Personal Loan distribution is moderately skewed with positive skewness of {skew}.')\n",
    "    \n",
    "else:\n",
    "    print(f'1. Personal Loan distribution is approximately symmetric as skewness is {skew}.')\n",
    "\n",
    "#print('')\n",
    "\n",
    "#Kurtosis\n",
    "if kurt < 3:\n",
    "    print(f'2. Personal Loan distribution is platykurtic as kurtosis is {kurt}.')\n",
    "elif kurt > 3:\n",
    "    print(f'2. Personal Loan distribution is leptykurtic as kurtosis is {kurt}.')\n",
    "else:\n",
    "    print(f'2. Personal Loan distribution is mesokurtic and follows normal distribution as kurtosis is {kurt}.')\n",
    "    \n",
    "#print('')\n",
    "\n",
    "print('3. From the data most of the customers do not take Personal loans.')"
   ]
  },
  {
   "cell_type": "code",
   "execution_count": 758,
   "metadata": {},
   "outputs": [],
   "source": [
    "#sns.pairplot(indata2)"
   ]
  },
  {
   "cell_type": "code",
   "execution_count": 759,
   "metadata": {},
   "outputs": [
    {
     "data": {
      "image/png": "[encoded data removed]",
      "text/plain": [
       "<Figure size 1440x1080 with 2 Axes>"
      ]
     },
     "metadata": {
      "needs_background": "light"
     },
     "output_type": "display_data"
    }
   ],
   "source": [
    "corrMat=indata2.corr()\n",
    "plt.figure(figsize=(20,15))\n",
    "sns.heatmap(corrMat, annot=True);"
   ]
  },
  {
   "cell_type": "code",
   "execution_count": 760,
   "metadata": {},
   "outputs": [
    {
     "name": "stdout",
     "output_type": "stream",
     "text": [
      "From the above heatmap we can see that:\n",
      "1. There is a strong correlation between Age and Experience.\n",
      "2. Income has moderate correlation with CCAvg and target variable Personal Loan.\n"
     ]
    }
   ],
   "source": [
    "print('From the above heatmap we can see that:')\n",
    "print('1. There is a strong correlation between Age and Experience.')\n",
    "print('2. Income has moderate correlation with CCAvg and target variable Personal Loan.')"
   ]
  },
  {
   "cell_type": "markdown",
   "metadata": {},
   "source": [
    "## Step 4: Split the data into training and test set in the ratio of 70:30 respectively "
   ]
  },
  {
   "cell_type": "code",
   "execution_count": 761,
   "metadata": {},
   "outputs": [],
   "source": [
    "#Dropping target variable and splitting data into train and test data.\n",
    "\n",
    "X=indata2.drop('Personal Loan', axis=1)\n",
    "y=indata2.loc[:,'Personal Loan']\n",
    "\n",
    "# taking 70:30 training and test set\n",
    "test_data = 0.30 \n",
    "\n",
    "X_train, X_test, y_train, y_test=train_test_split(X,y, test_size=test_data, random_state=1)"
   ]
  },
  {
   "cell_type": "markdown",
   "metadata": {},
   "source": [
    "## Step 5: Use different classification models (Logistic, K-NN and Naïve Bayes) to predict the likelihood of a customer buying personal loans"
   ]
  },
  {
   "cell_type": "markdown",
   "metadata": {},
   "source": [
    "### 1. Logistic Regression\n"
   ]
  },
  {
   "cell_type": "code",
   "execution_count": 762,
   "metadata": {},
   "outputs": [
    {
     "name": "stdout",
     "output_type": "stream",
     "text": [
      "Logistic Model Score:\n",
      "0.9503063308373043\n",
      "\n",
      "              precision    recall  f1-score   support\n",
      "\n",
      "           0       0.96      0.99      0.97      1341\n",
      "           1       0.79      0.59      0.67       128\n",
      "\n",
      "    accuracy                           0.95      1469\n",
      "   macro avg       0.88      0.79      0.82      1469\n",
      "weighted avg       0.95      0.95      0.95      1469\n",
      "\n"
     ]
    },
    {
     "name": "stderr",
     "output_type": "stream",
     "text": [
      "C:\\Users\\Rakesh Gowda S N\\anaconda3\\lib\\site-packages\\sklearn\\linear_model\\_logistic.py:762: ConvergenceWarning: lbfgs failed to converge (status=1):\n",
      "STOP: TOTAL NO. of ITERATIONS REACHED LIMIT.\n",
      "\n",
      "Increase the number of iterations (max_iter) or scale the data as shown in:\n",
      "    https://scikit-learn.org/stable/modules/preprocessing.html\n",
      "Please also refer to the documentation for alternative solver options:\n",
      "    https://scikit-learn.org/stable/modules/linear_model.html#logistic-regression\n",
      "  n_iter_i = _check_optimize_result(\n"
     ]
    }
   ],
   "source": [
    "logreg_model=LogisticRegression()\n",
    "logreg_model.fit(X_train,y_train)\n",
    "\n",
    "logreg_predict = logreg_model.predict(X_test)\n",
    "logreg_score   = accuracy_score(y_test,logreg_predict)\n",
    "\n",
    "# logreg_score   = logreg_model.score(X_test, y_test)\n",
    "\n",
    "print(\"Logistic Model Score:\")\n",
    "print(logreg_score)\n",
    "print('')\n",
    "print(classification_report(y_test,logreg_predict))"
   ]
  },
  {
   "cell_type": "code",
   "execution_count": 763,
   "metadata": {},
   "outputs": [],
   "source": [
    "#Here we need to standardize data to make the distribution such that mean = 0 and standard deviation = 1 (same as variance 1)\n",
    "#By making the distribution more or less standard normal distribution to acheive accurate results \n",
    "\n",
    "cols = indata2.columns\n",
    "stand_scale = preprocessing.StandardScaler()\n",
    "\n",
    "stand_X_train=stand_scale.fit_transform(X_train)\n",
    "stand_X_test=stand_scale.fit_transform(X_test)"
   ]
  },
  {
   "cell_type": "code",
   "execution_count": 764,
   "metadata": {},
   "outputs": [
    {
     "name": "stdout",
     "output_type": "stream",
     "text": [
      "Logistic Model Score (After Standardizing):\n",
      "0.9530292716133424\n",
      "\n",
      "Classification Report\n",
      "              precision    recall  f1-score   support\n",
      "\n",
      "           0       0.96      0.99      0.97      1341\n",
      "           1       0.82      0.59      0.69       128\n",
      "\n",
      "    accuracy                           0.95      1469\n",
      "   macro avg       0.89      0.79      0.83      1469\n",
      "weighted avg       0.95      0.95      0.95      1469\n",
      "\n"
     ]
    }
   ],
   "source": [
    "logreg_model=LogisticRegression()\n",
    "logreg_model.fit(stand_X_train,y_train)\n",
    "\n",
    "logreg_predict = logreg_model.predict(stand_X_test)\n",
    "logreg_score   = accuracy_score(y_test,logreg_predict)\n",
    "\n",
    "print(\"Logistic Model Score (After Standardizing):\")\n",
    "print(logreg_score)\n",
    "print('')\n",
    "print('Classification Report')\n",
    "print(classification_report(y_test,logreg_predict))"
   ]
  },
  {
   "cell_type": "code",
   "execution_count": 765,
   "metadata": {},
   "outputs": [
    {
     "name": "stdout",
     "output_type": "stream",
     "text": [
      "Area under the Receiver Operating Characteristic(ROC) Curve for Logistic Regression model is :  0.949530\n"
     ]
    }
   ],
   "source": [
    "logreg_prob=logreg_model.predict_proba(stand_X_test)\n",
    "fpr1,tpr1,thresholds1=roc_curve(y_test, logreg_prob[:,1])\n",
    "roc_auc1=auc(fpr1,tpr1)\n",
    "print(\"Area under the Receiver Operating Characteristic(ROC) Curve for Logistic Regression model is :  %f\" %roc_auc1)"
   ]
  },
  {
   "cell_type": "code",
   "execution_count": 766,
   "metadata": {},
   "outputs": [
    {
     "name": "stdout",
     "output_type": "stream",
     "text": [
      "Logistic Regression Model score(accuracy) is : 0.953029\n",
      "ROC for Logistic Regression Model is         : 0.949530\n",
      "\n",
      "Note: We can observe that accuracy, precision and F1 score of true positives has increased by almost 0.3 after standardization.\n"
     ]
    }
   ],
   "source": [
    "print(\"Logistic Regression Model score(accuracy) is : %f\" %logreg_score)\n",
    "print(\"ROC for Logistic Regression Model is         : %f\" %roc_auc1)\n",
    "print('')\n",
    "print('Note: We can observe that accuracy, precision and F1 score of true positives has increased by almost 0.3 after standardization.')"
   ]
  },
  {
   "cell_type": "markdown",
   "metadata": {},
   "source": [
    "### 2. KNN Classifier"
   ]
  },
  {
   "cell_type": "code",
   "execution_count": 767,
   "metadata": {},
   "outputs": [
    {
     "name": "stdout",
     "output_type": "stream",
     "text": [
      "KNN Model Score (After Standardizing):\n",
      "0.9673247106875426\n",
      "\n",
      "Classification Report\n",
      "              precision    recall  f1-score   support\n",
      "\n",
      "           0       0.97      0.99      0.98      1341\n",
      "           1       0.92      0.69      0.79       128\n",
      "\n",
      "    accuracy                           0.97      1469\n",
      "   macro avg       0.94      0.84      0.88      1469\n",
      "weighted avg       0.97      0.97      0.97      1469\n",
      "\n"
     ]
    }
   ],
   "source": [
    "knn_model=KNeighborsClassifier(n_neighbors=3)\n",
    "knn_model.fit(stand_X_train,y_train)\n",
    "\n",
    "knn_predict = knn_model.predict(stand_X_test)\n",
    "knn_score   = accuracy_score(y_test,knn_predict)\n",
    "\n",
    "print(\"KNN Model Score (After Standardizing):\")\n",
    "print(knn_score)\n",
    "print('')\n",
    "print('Classification Report')\n",
    "print(classification_report(y_test,knn_predict))"
   ]
  },
  {
   "cell_type": "code",
   "execution_count": 768,
   "metadata": {},
   "outputs": [
    {
     "name": "stdout",
     "output_type": "stream",
     "text": [
      "Area under the Receiver Operating Characteristic(ROC) Curve for KNN model is :  0.915327\n"
     ]
    }
   ],
   "source": [
    "knn_prob=knn_model.predict_proba(stand_X_test)\n",
    "fpr2,tpr2,thresholds2=roc_curve(y_test, knn_prob[:,1])\n",
    "roc_auc2=auc(fpr2,tpr2)\n",
    "print(\"Area under the Receiver Operating Characteristic(ROC) Curve for KNN model is :  %f\" %roc_auc2)"
   ]
  },
  {
   "cell_type": "code",
   "execution_count": 769,
   "metadata": {},
   "outputs": [
    {
     "name": "stdout",
     "output_type": "stream",
     "text": [
      "K Nearest Neighbor Model score(accuracy) is : 0.967325\n",
      "ROC for K Nearest Neighbor Model is         : 0.915327\n"
     ]
    }
   ],
   "source": [
    "print(\"K Nearest Neighbor Model score(accuracy) is : %f\" %knn_score)\n",
    "print(\"ROC for K Nearest Neighbor Model is         : %f\" %roc_auc2)"
   ]
  },
  {
   "cell_type": "markdown",
   "metadata": {},
   "source": [
    "### 3. Naive Bayes Classifier"
   ]
  },
  {
   "cell_type": "code",
   "execution_count": 770,
   "metadata": {},
   "outputs": [
    {
     "name": "stdout",
     "output_type": "stream",
     "text": [
      "Naive Bayes Model Score (After Standardizing):\n",
      "0.8944860449285228\n",
      "\n",
      "Classification Report\n",
      "              precision    recall  f1-score   support\n",
      "\n",
      "           0       0.96      0.92      0.94      1341\n",
      "           1       0.42      0.59      0.50       128\n",
      "\n",
      "    accuracy                           0.89      1469\n",
      "   macro avg       0.69      0.76      0.72      1469\n",
      "weighted avg       0.91      0.89      0.90      1469\n",
      "\n"
     ]
    }
   ],
   "source": [
    "nb_model=GaussianNB()\n",
    "nb_model.fit(stand_X_train,y_train)\n",
    "\n",
    "nb_predict = nb_model.predict(stand_X_test)\n",
    "nb_score   = accuracy_score(y_test,nb_predict)\n",
    "\n",
    "print(\"Naive Bayes Model Score (After Standardizing):\")\n",
    "print(nb_score)\n",
    "print('')\n",
    "print('Classification Report')\n",
    "print(classification_report(y_test,nb_predict))"
   ]
  },
  {
   "cell_type": "code",
   "execution_count": 771,
   "metadata": {},
   "outputs": [
    {
     "name": "stdout",
     "output_type": "stream",
     "text": [
      "Area under the Receiver Operating Characteristic(ROC) Curve for Naive Bayes model is :  0.924240\n"
     ]
    }
   ],
   "source": [
    "nb_prob=nb_model.predict_proba(stand_X_test)\n",
    "fpr3,tpr3,thresholds3=roc_curve(y_test, nb_prob[:,1])\n",
    "roc_auc3=auc(fpr3,tpr3)\n",
    "print(\"Area under the Receiver Operating Characteristic(ROC) Curve for Naive Bayes model is :  %f\" %roc_auc3)"
   ]
  },
  {
   "cell_type": "code",
   "execution_count": 772,
   "metadata": {},
   "outputs": [
    {
     "name": "stdout",
     "output_type": "stream",
     "text": [
      "Naive Bayes Model score(accuracy) is : 0.894486\n",
      "ROC for Naive Bayes Model is         : 0.915327\n"
     ]
    }
   ],
   "source": [
    "print(\"Naive Bayes Model score(accuracy) is : %f\" %nb_score)\n",
    "print(\"ROC for Naive Bayes Model is         : %f\" %roc_auc2)"
   ]
  },
  {
   "cell_type": "markdown",
   "metadata": {},
   "source": [
    "## Step 6: Print the confusion matrix for all the above models "
   ]
  },
  {
   "cell_type": "code",
   "execution_count": 773,
   "metadata": {},
   "outputs": [
    {
     "name": "stdout",
     "output_type": "stream",
     "text": [
      "Logistic Regression Model confusion matrix and classification report is: \n",
      "[[1324   17]\n",
      " [  52   76]]\n",
      "              precision    recall  f1-score   support\n",
      "\n",
      "           0       0.96      0.99      0.97      1341\n",
      "           1       0.82      0.59      0.69       128\n",
      "\n",
      "    accuracy                           0.95      1469\n",
      "   macro avg       0.89      0.79      0.83      1469\n",
      "weighted avg       0.95      0.95      0.95      1469\n",
      "\n",
      "\n",
      "K Nearest Neighbor Model confusion matrix is: \n",
      "[[1333    8]\n",
      " [  40   88]]\n",
      "              precision    recall  f1-score   support\n",
      "\n",
      "           0       0.97      0.99      0.98      1341\n",
      "           1       0.92      0.69      0.79       128\n",
      "\n",
      "    accuracy                           0.97      1469\n",
      "   macro avg       0.94      0.84      0.88      1469\n",
      "weighted avg       0.97      0.97      0.97      1469\n",
      "\n",
      "\n",
      "Naive Bayes Model confusion matrix is: \n",
      "[[1238  103]\n",
      " [  52   76]]\n",
      "              precision    recall  f1-score   support\n",
      "\n",
      "           0       0.96      0.92      0.94      1341\n",
      "           1       0.42      0.59      0.50       128\n",
      "\n",
      "    accuracy                           0.89      1469\n",
      "   macro avg       0.69      0.76      0.72      1469\n",
      "weighted avg       0.91      0.89      0.90      1469\n",
      "\n"
     ]
    }
   ],
   "source": [
    "print(\"Logistic Regression Model confusion matrix and classification report is: \")\n",
    "print(metrics.confusion_matrix(y_test, logreg_predict))\n",
    "print(classification_report(y_test,logreg_predict))\n",
    "\n",
    "print('')\n",
    "\n",
    "print(\"K Nearest Neighbor Model confusion matrix is: \")\n",
    "print(metrics.confusion_matrix(y_test, knn_predict))\n",
    "print(classification_report(y_test,knn_predict))\n",
    "\n",
    "print('')\n",
    "\n",
    "print(\"Naive Bayes Model confusion matrix is: \")\n",
    "print(metrics.confusion_matrix(y_test, nb_predict))\n",
    "print(classification_report(y_test,nb_predict))"
   ]
  },
  {
   "cell_type": "code",
   "execution_count": 774,
   "metadata": {},
   "outputs": [
    {
     "name": "stdout",
     "output_type": "stream",
     "text": [
      "From the above confusion matrix we can see that KNN model has less number of Type 1 and Type 2 errors compared to other models.\n"
     ]
    }
   ],
   "source": [
    "print('From the above confusion matrix we can see that KNN model has less number of Type 1 and Type 2 errors compared to other models.')"
   ]
  },
  {
   "cell_type": "code",
   "execution_count": 775,
   "metadata": {},
   "outputs": [],
   "source": [
    "#to access data from classification report\n",
    "\n",
    "report1 = classification_report(y_test,logreg_predict,output_dict=True)\n",
    "logreg_precision =  report1['macro avg']['precision']\n",
    "logreg_recall= report1['macro avg']['recall']\n",
    "logreg_f1= report1['macro avg']['f1-score']\n",
    "logreg_spec=76/(52+76)                     #True Negative rate\n",
    "\n",
    "report2 = classification_report(y_test,knn_predict,output_dict=True)\n",
    "knn_precision =  report2['macro avg']['precision']\n",
    "knn_recall= report2['macro avg']['recall']\n",
    "knn_f1= report2['macro avg']['f1-score']\n",
    "knn_spec=88/(40+88)                     #True Negative rate\n",
    "\n",
    "report3 = classification_report(y_test,nb_predict,output_dict=True)\n",
    "nb_precision =  report3['macro avg']['precision']\n",
    "nb_recall= report3['macro avg']['recall']\n",
    "nb_f1= report3['macro avg']['f1-score']\n",
    "nb_spec=76/(52+76)                     #True Negative rate"
   ]
  },
  {
   "cell_type": "markdown",
   "metadata": {},
   "source": [
    "## Step 7: Give your reasoning on which is the best model in this case and why it performs better? "
   ]
  },
  {
   "cell_type": "code",
   "execution_count": 776,
   "metadata": {},
   "outputs": [
    {
     "name": "stdout",
     "output_type": "stream",
     "text": [
      "Final Observations:\n"
     ]
    },
    {
     "data": {
      "text/html": [
       "<div>\n",
       "<style scoped>\n",
       "    .dataframe tbody tr th:only-of-type {\n",
       "        vertical-align: middle;\n",
       "    }\n",
       "\n",
       "    .dataframe tbody tr th {\n",
       "        vertical-align: top;\n",
       "    }\n",
       "\n",
       "    .dataframe thead th {\n",
       "        text-align: right;\n",
       "    }\n",
       "</style>\n",
       "<table border=\"1\" class=\"dataframe\">\n",
       "  <thead>\n",
       "    <tr style=\"text-align: right;\">\n",
       "      <th></th>\n",
       "      <th>Logistic Regression</th>\n",
       "      <th>K Nearest Neighbor</th>\n",
       "      <th>Naive Bayes</th>\n",
       "    </tr>\n",
       "  </thead>\n",
       "  <tbody>\n",
       "    <tr>\n",
       "      <th>Accuracy</th>\n",
       "      <td>0.953029</td>\n",
       "      <td>0.967325</td>\n",
       "      <td>0.894486</td>\n",
       "    </tr>\n",
       "    <tr>\n",
       "      <th>Precision</th>\n",
       "      <td>0.889707</td>\n",
       "      <td>0.943767</td>\n",
       "      <td>0.692135</td>\n",
       "    </tr>\n",
       "    <tr>\n",
       "      <th>Recall</th>\n",
       "      <td>0.790536</td>\n",
       "      <td>0.840767</td>\n",
       "      <td>0.758471</td>\n",
       "    </tr>\n",
       "    <tr>\n",
       "      <th>Specificity</th>\n",
       "      <td>0.593750</td>\n",
       "      <td>0.687500</td>\n",
       "      <td>0.593750</td>\n",
       "    </tr>\n",
       "    <tr>\n",
       "      <th>F1-score</th>\n",
       "      <td>0.831194</td>\n",
       "      <td>0.884014</td>\n",
       "      <td>0.718101</td>\n",
       "    </tr>\n",
       "    <tr>\n",
       "      <th>ROC</th>\n",
       "      <td>0.949530</td>\n",
       "      <td>0.915327</td>\n",
       "      <td>0.924240</td>\n",
       "    </tr>\n",
       "  </tbody>\n",
       "</table>\n",
       "</div>"
      ],
      "text/plain": [
       "             Logistic Regression  K Nearest Neighbor  Naive Bayes\n",
       "Accuracy                0.953029            0.967325     0.894486\n",
       "Precision               0.889707            0.943767     0.692135\n",
       "Recall                  0.790536            0.840767     0.758471\n",
       "Specificity             0.593750            0.687500     0.593750\n",
       "F1-score                0.831194            0.884014     0.718101\n",
       "ROC                     0.949530            0.915327     0.924240"
      ]
     },
     "execution_count": 776,
     "metadata": {},
     "output_type": "execute_result"
    }
   ],
   "source": [
    "print('Final Observations:')\n",
    "\n",
    "data=pd.DataFrame(\n",
    "                   {\"Logistic Regression\":[logreg_score,logreg_precision,logreg_recall,logreg_spec,logreg_f1,roc_auc1],\n",
    "                    \"K Nearest Neighbor\":[knn_score,knn_precision,knn_recall,knn_spec,knn_f1,roc_auc2],\n",
    "                    \"Naive Bayes\":[nb_score,nb_precision,nb_recall,nb_spec,nb_f1,roc_auc3]},                  \n",
    "                    index=['Accuracy','Precision','Recall','Specificity','F1-score','ROC'])\n",
    "\n",
    "data"
   ]
  },
  {
   "cell_type": "markdown",
   "metadata": {},
   "source": [
    "#### 1. The above data shows that KNN model has better accuracy, precision, recall, specificity and F1 score compared to Logistic Regression and Naive Bayes models.\n",
    "#### 2. We can see that ROC is highest in Logistic Regression model.\n",
    "#### 3. For this particular case we can consider KNN model to be the best model as the data we have is less and KNN has highest sensitivity and specificity.\n",
    "#### 4. However, when there is more data Logistic Regression model is the best suitable approach as time and space consumption increases with the size of data in KNN model compared to Logistic Regression."
   ]
  }
 ],
 "metadata": {
  "kernelspec": {
   "display_name": "Python 3",
   "language": "python",
   "name": "python3"
  },
  "language_info": {
   "codemirror_mode": {
    "name": "ipython",
    "version": 3
   },
   "file_extension": ".py",
   "mimetype": "text/x-python",
   "name": "python",
   "nbconvert_exporter": "python",
   "pygments_lexer": "ipython3",
   "version": "3.8.3"
  }
 },
 "nbformat": 4,
 "nbformat_minor": 4
}
